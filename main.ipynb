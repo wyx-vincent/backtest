{
 "cells": [
  {
   "cell_type": "code",
   "execution_count": 1,
   "metadata": {},
   "outputs": [],
   "source": [
    "import math\n",
    "\n",
    "from portfolio import Portfolio\n",
    "from backtest import Backtest\n",
    "from strategies import *\n",
    "from config import *\n",
    "from utils import plot_distribution\n",
    "from data_processing import *"
   ]
  },
  {
   "cell_type": "code",
   "execution_count": 2,
   "metadata": {},
   "outputs": [],
   "source": [
    "# get data\n",
    "spy_df = get_spy_data().loc[1130:]\n",
    "# options_df = generate_option_chain(spy_df, generate_at='open')"
   ]
  },
  {
   "cell_type": "code",
   "execution_count": 3,
   "metadata": {},
   "outputs": [],
   "source": [
    "# instantiation\n",
    "my_portfolio = Portfolio(initial_portfolio_nominal_value, portolio_weights_config, collateral_ratio)\n",
    "my_strategy = ZeroCostCollar0DTE(my_portfolio, 'SPY', spy_df)\n",
    "env = Backtest(my_portfolio, spy_df)\n",
    "\n",
    "# data cleaning and calculation\n",
    "env.main_df = my_strategy.select_options(env.main_df, strike_selection_config)\n",
    "\n",
    "# env.get_option_price_bs(options_df, spot_price='open')\n",
    "env.get_option_price_polygon('SPY', 'open', bs_config)  # use bs model to calculate price if data not available on Polygon.io\n",
    "env.update_option_price_at_close()\n",
    "env.main_df = my_strategy.update_collar_pnl(env.main_df)"
   ]
  },
  {
   "cell_type": "code",
   "execution_count": 4,
   "metadata": {},
   "outputs": [
    {
     "name": "stdout",
     "output_type": "stream",
     "text": [
      "Portfolio position: {'equity': {'SPY': 2465}}\n",
      "Cash after buying SPY: 60268.02\n",
      "Transaction history\n",
      "2022-06-29: ['bought 2465 SPY at 381.23 on 2022-06-29.']\n"
     ]
    }
   ],
   "source": [
    "# Buy and hold SPY at market open on Day 0\n",
    "first_date = env.main_df['Date'].values[0]\n",
    "first_price = env.main_df['Open'].values[0]\n",
    "\n",
    "target_spy_exposure = my_portfolio.initial_portfolio_nominal_value * my_portfolio.target_portfolio_weights['equity']\n",
    "n_spy_to_buy = math.floor(target_spy_exposure / first_price)\n",
    "my_strategy.execute_buy_and_hold_underlying('equity', first_date, first_price, n_spy_to_buy)\n",
    "\n",
    "print('Portfolio position:', my_portfolio.positions)\n",
    "print('Cash after buying SPY:', round(my_portfolio.cash, 2))\n",
    "print('Transaction history')\n",
    "my_portfolio.print_transaction_history()\n"
   ]
  },
  {
   "cell_type": "code",
   "execution_count": 5,
   "metadata": {},
   "outputs": [
    {
     "ename": "Exception",
     "evalue": "Trying to cover short position in call K=381.0, but cash is not enough. Total cash needed: 19769.272885000024, margin account balance: 2730.303215321948, 'cash balance: 10712.01865552937",
     "output_type": "error",
     "traceback": [
      "\u001b[0;31m---------------------------------------------------------------------------\u001b[0m",
      "\u001b[0;31mException\u001b[0m                                 Traceback (most recent call last)",
      "Cell \u001b[0;32mIn[5], line 3\u001b[0m\n\u001b[1;32m      1\u001b[0m \u001b[38;5;66;03m# Run the zero-cost collar strategy every day in spy_df\u001b[39;00m\n\u001b[1;32m      2\u001b[0m simulation_days \u001b[38;5;241m=\u001b[39m \u001b[38;5;28mlen\u001b[39m(spy_df)\n\u001b[0;32m----> 3\u001b[0m \u001b[43menv\u001b[49m\u001b[38;5;241;43m.\u001b[39;49m\u001b[43mrun\u001b[49m\u001b[43m(\u001b[49m\u001b[43mmy_strategy\u001b[49m\u001b[43m,\u001b[49m\u001b[43m \u001b[49m\u001b[43msimulation_days\u001b[49m\u001b[43m)\u001b[49m\n",
      "File \u001b[0;32m~/Desktop/Quant/Quant_Work/Projects/backtest/backtest.py:115\u001b[0m, in \u001b[0;36mBacktest.run\u001b[0;34m(self, Strategy, simulation_days)\u001b[0m\n\u001b[1;32m    112\u001b[0m     end_index \u001b[38;5;241m=\u001b[39m \u001b[38;5;28mself\u001b[39m\u001b[38;5;241m.\u001b[39mmain_df\u001b[38;5;241m.\u001b[39mindex[\u001b[38;5;241m-\u001b[39m\u001b[38;5;241m1\u001b[39m]\n\u001b[1;32m    114\u001b[0m \u001b[38;5;28;01mfor\u001b[39;00m index, row \u001b[38;5;129;01min\u001b[39;00m \u001b[38;5;28mself\u001b[39m\u001b[38;5;241m.\u001b[39mmain_df\u001b[38;5;241m.\u001b[39mloc[start_index:end_index]\u001b[38;5;241m.\u001b[39miterrows():\n\u001b[0;32m--> 115\u001b[0m     \u001b[43mStrategy\u001b[49m\u001b[38;5;241;43m.\u001b[39;49m\u001b[43mexecute\u001b[49m\u001b[43m(\u001b[49m\u001b[43mrow\u001b[49m\u001b[43m)\u001b[49m\n\u001b[1;32m    116\u001b[0m     price_dict \u001b[38;5;241m=\u001b[39m {\u001b[38;5;124m'\u001b[39m\u001b[38;5;124mequity\u001b[39m\u001b[38;5;124m'\u001b[39m: {Strategy\u001b[38;5;241m.\u001b[39masset: row[\u001b[38;5;124m'\u001b[39m\u001b[38;5;124mClose\u001b[39m\u001b[38;5;124m'\u001b[39m]}}\n\u001b[1;32m    117\u001b[0m     has_asset_class \u001b[38;5;241m=\u001b[39m \u001b[38;5;28mset\u001b[39m(\u001b[38;5;28mself\u001b[39m\u001b[38;5;241m.\u001b[39mportfolio\u001b[38;5;241m.\u001b[39mpositions\u001b[38;5;241m.\u001b[39mkeys())\n",
      "File \u001b[0;32m~/Desktop/Quant/Quant_Work/Projects/backtest/strategies/zero_cost_collar_0dte.py:64\u001b[0m, in \u001b[0;36mZeroCostCollar0DTE.execute\u001b[0;34m(self, row_data)\u001b[0m\n\u001b[1;32m     62\u001b[0m \u001b[38;5;28;01mdef\u001b[39;00m \u001b[38;5;21mexecute\u001b[39m(\u001b[38;5;28mself\u001b[39m, row_data):\n\u001b[1;32m     63\u001b[0m     \u001b[38;5;28mself\u001b[39m\u001b[38;5;241m.\u001b[39mshort_call_long_put(row_data)\n\u001b[0;32m---> 64\u001b[0m     \u001b[38;5;28;43mself\u001b[39;49m\u001b[38;5;241;43m.\u001b[39;49m\u001b[43mlet_0dte_expire\u001b[49m\u001b[43m(\u001b[49m\u001b[43mrow_data\u001b[49m\u001b[43m)\u001b[49m\n",
      "File \u001b[0;32m~/Desktop/Quant/Quant_Work/Projects/backtest/strategies/zero_cost_collar_0dte.py:59\u001b[0m, in \u001b[0;36mZeroCostCollar0DTE.let_0dte_expire\u001b[0;34m(self, row_data)\u001b[0m\n\u001b[1;32m     57\u001b[0m call_quantity \u001b[38;5;241m=\u001b[39m \u001b[38;5;241m-\u001b[39m\u001b[38;5;28mself\u001b[39m\u001b[38;5;241m.\u001b[39mportfolio\u001b[38;5;241m.\u001b[39mpositions[\u001b[38;5;124m'\u001b[39m\u001b[38;5;124moption\u001b[39m\u001b[38;5;124m'\u001b[39m][data[\u001b[38;5;124m'\u001b[39m\u001b[38;5;124mcall\u001b[39m\u001b[38;5;124m'\u001b[39m]]       \u001b[38;5;66;03m# after the negative sign, call_quantity should be a positive number\u001b[39;00m\n\u001b[1;32m     58\u001b[0m \u001b[38;5;28mself\u001b[39m\u001b[38;5;241m.\u001b[39mportfolio\u001b[38;5;241m.\u001b[39msell(date\u001b[38;5;241m=\u001b[39mdata[\u001b[38;5;124m'\u001b[39m\u001b[38;5;124mcurrent_date\u001b[39m\u001b[38;5;124m'\u001b[39m], asset_class\u001b[38;5;241m=\u001b[39m\u001b[38;5;124m'\u001b[39m\u001b[38;5;124moption\u001b[39m\u001b[38;5;124m'\u001b[39m, asset\u001b[38;5;241m=\u001b[39mdata[\u001b[38;5;124m'\u001b[39m\u001b[38;5;124mput\u001b[39m\u001b[38;5;124m'\u001b[39m], price\u001b[38;5;241m=\u001b[39mdata[\u001b[38;5;124m'\u001b[39m\u001b[38;5;124mput_price_close\u001b[39m\u001b[38;5;124m'\u001b[39m], quantity\u001b[38;5;241m=\u001b[39mput_quantity)\n\u001b[0;32m---> 59\u001b[0m \u001b[38;5;28;43mself\u001b[39;49m\u001b[38;5;241;43m.\u001b[39;49m\u001b[43mportfolio\u001b[49m\u001b[38;5;241;43m.\u001b[39;49m\u001b[43mcover_short\u001b[49m\u001b[43m(\u001b[49m\u001b[43mdate\u001b[49m\u001b[38;5;241;43m=\u001b[39;49m\u001b[43mdata\u001b[49m\u001b[43m[\u001b[49m\u001b[38;5;124;43m'\u001b[39;49m\u001b[38;5;124;43mcurrent_date\u001b[39;49m\u001b[38;5;124;43m'\u001b[39;49m\u001b[43m]\u001b[49m\u001b[43m,\u001b[49m\u001b[43m \u001b[49m\u001b[43masset_class\u001b[49m\u001b[38;5;241;43m=\u001b[39;49m\u001b[38;5;124;43m'\u001b[39;49m\u001b[38;5;124;43moption\u001b[39;49m\u001b[38;5;124;43m'\u001b[39;49m\u001b[43m,\u001b[49m\u001b[43m \u001b[49m\u001b[43masset\u001b[49m\u001b[38;5;241;43m=\u001b[39;49m\u001b[43mdata\u001b[49m\u001b[43m[\u001b[49m\u001b[38;5;124;43m'\u001b[39;49m\u001b[38;5;124;43mcall\u001b[39;49m\u001b[38;5;124;43m'\u001b[39;49m\u001b[43m]\u001b[49m\u001b[43m,\u001b[49m\u001b[43m \u001b[49m\u001b[43mprice\u001b[49m\u001b[38;5;241;43m=\u001b[39;49m\u001b[43mdata\u001b[49m\u001b[43m[\u001b[49m\u001b[38;5;124;43m'\u001b[39;49m\u001b[38;5;124;43mcall_price_close\u001b[39;49m\u001b[38;5;124;43m'\u001b[39;49m\u001b[43m]\u001b[49m\u001b[43m,\u001b[49m\u001b[43m \u001b[49m\u001b[43mquantity\u001b[49m\u001b[38;5;241;43m=\u001b[39;49m\u001b[43mcall_quantity\u001b[49m\u001b[43m)\u001b[49m\n",
      "File \u001b[0;32m~/Desktop/Quant/Quant_Work/Projects/backtest/utils/asset_class_validator.py:56\u001b[0m, in \u001b[0;36mAssetClassValidator.validate_asset_class.<locals>.wrapper\u001b[0;34m(*args, **kwargs)\u001b[0m\n\u001b[1;32m     54\u001b[0m     \u001b[38;5;28;01melse\u001b[39;00m:\n\u001b[1;32m     55\u001b[0m         \u001b[38;5;28;01mraise\u001b[39;00m \u001b[38;5;167;01mValueError\u001b[39;00m(\u001b[38;5;124m\"\u001b[39m\u001b[38;5;124mThe function does not have an \u001b[39m\u001b[38;5;124m'\u001b[39m\u001b[38;5;124masset_class\u001b[39m\u001b[38;5;124m'\u001b[39m\u001b[38;5;124m parameter.\u001b[39m\u001b[38;5;124m\"\u001b[39m)\n\u001b[0;32m---> 56\u001b[0m \u001b[38;5;28;01mreturn\u001b[39;00m \u001b[43mfunc\u001b[49m\u001b[43m(\u001b[49m\u001b[38;5;241;43m*\u001b[39;49m\u001b[43margs\u001b[49m\u001b[43m,\u001b[49m\u001b[43m \u001b[49m\u001b[38;5;241;43m*\u001b[39;49m\u001b[38;5;241;43m*\u001b[39;49m\u001b[43mkwargs\u001b[49m\u001b[43m)\u001b[49m\n",
      "File \u001b[0;32m~/Desktop/Quant/Quant_Work/Projects/backtest/portfolio.py:207\u001b[0m, in \u001b[0;36mPortfolio.cover_short\u001b[0;34m(self, date, asset_class, asset, price, quantity)\u001b[0m\n\u001b[1;32m    204\u001b[0m \u001b[38;5;28;01mif\u001b[39;00m \u001b[38;5;28mself\u001b[39m\u001b[38;5;241m.\u001b[39m_cash \u001b[38;5;241m<\u001b[39m cash_required_to_cover:\n\u001b[1;32m    205\u001b[0m     error3 \u001b[38;5;241m=\u001b[39m (\u001b[38;5;124mf\u001b[39m\u001b[38;5;124m\"\u001b[39m\u001b[38;5;124mTrying to cover short position in \u001b[39m\u001b[38;5;132;01m{\u001b[39;00masset\u001b[38;5;132;01m}\u001b[39;00m\u001b[38;5;124m, but cash is not enough. \u001b[39m\u001b[38;5;124m\"\u001b[39m\n\u001b[1;32m    206\u001b[0m                 \u001b[38;5;124mf\u001b[39m\u001b[38;5;124m\"\u001b[39m\u001b[38;5;124mTotal cash needed: \u001b[39m\u001b[38;5;132;01m{\u001b[39;00mprice\u001b[38;5;250m \u001b[39m\u001b[38;5;241m*\u001b[39m\u001b[38;5;250m \u001b[39mquantity\u001b[38;5;132;01m}\u001b[39;00m\u001b[38;5;124m, margin account balance: \u001b[39m\u001b[38;5;132;01m{\u001b[39;00m\u001b[38;5;28mself\u001b[39m\u001b[38;5;241m.\u001b[39m_margin[asset_class][asset]\u001b[38;5;132;01m}\u001b[39;00m\u001b[38;5;124m, \u001b[39m\u001b[38;5;124m'\u001b[39m\u001b[38;5;124mcash balance: \u001b[39m\u001b[38;5;132;01m{\u001b[39;00m\u001b[38;5;28mself\u001b[39m\u001b[38;5;241m.\u001b[39m_cash\u001b[38;5;132;01m}\u001b[39;00m\u001b[38;5;124m\"\u001b[39m)\n\u001b[0;32m--> 207\u001b[0m     \u001b[38;5;28;01mraise\u001b[39;00m \u001b[38;5;167;01mException\u001b[39;00m(error3)\n\u001b[1;32m    209\u001b[0m \u001b[38;5;66;03m# it's ok to release fund from margin account to cash account before calling 'buy' function, as we have checked we have enough cash above\u001b[39;00m\n\u001b[1;32m    210\u001b[0m cash_released \u001b[38;5;241m=\u001b[39m \u001b[38;5;28mself\u001b[39m\u001b[38;5;241m.\u001b[39m_margin[asset_class][asset] \u001b[38;5;241m*\u001b[39m cover_ratio\n",
      "\u001b[0;31mException\u001b[0m: Trying to cover short position in call K=381.0, but cash is not enough. Total cash needed: 19769.272885000024, margin account balance: 2730.303215321948, 'cash balance: 10712.01865552937"
     ]
    }
   ],
   "source": [
    "# Run the zero-cost collar strategy every day in spy_df\n",
    "simulation_days = len(spy_df)\n",
    "env.run(my_strategy, simulation_days)"
   ]
  },
  {
   "cell_type": "code",
   "execution_count": null,
   "metadata": {},
   "outputs": [],
   "source": [
    "# Plot the distribution of collar strategy cost. Negative cost means the call premium is larger than put premium (i.e. receiving a credit to open)\n",
    "plot_distribution(env.main_df['collar_cost'], x_label='Collar Cost', title='Collar Cost Distribution')"
   ]
  },
  {
   "cell_type": "code",
   "execution_count": null,
   "metadata": {},
   "outputs": [],
   "source": [
    "# Plot the distribution collar strategy PnL\n",
    "plot_distribution(env.main_df['collar_pnl'], x_label='Daily Collar Profit', title='Collar PnL Distribution')"
   ]
  },
  {
   "cell_type": "code",
   "execution_count": null,
   "metadata": {},
   "outputs": [],
   "source": [
    "port_return = my_portfolio.calc_port_daily_return()\n",
    "plot_distribution(port_return, x_label='Portfolio Daily Return', title='Portfolio Daily Return Distribution')"
   ]
  },
  {
   "cell_type": "code",
   "execution_count": null,
   "metadata": {},
   "outputs": [],
   "source": [
    "spy_return = env.calc_benchmark_return()\n",
    "plot_distribution(spy_return, x_label='SPY Daily Return', title='SPY Daily Return Distribution')"
   ]
  },
  {
   "cell_type": "code",
   "execution_count": null,
   "metadata": {},
   "outputs": [],
   "source": [
    "env.plot_nav_vs_spy()"
   ]
  },
  {
   "cell_type": "code",
   "execution_count": null,
   "metadata": {},
   "outputs": [],
   "source": [
    "env.plot_exposure()"
   ]
  },
  {
   "cell_type": "code",
   "execution_count": null,
   "metadata": {},
   "outputs": [],
   "source": [
    "# my_portfolio.print_transaction_history()"
   ]
  },
  {
   "cell_type": "code",
   "execution_count": null,
   "metadata": {},
   "outputs": [],
   "source": []
  }
 ],
 "metadata": {
  "kernelspec": {
   "display_name": "backtest",
   "language": "python",
   "name": "python3"
  },
  "language_info": {
   "codemirror_mode": {
    "name": "ipython",
    "version": 3
   },
   "file_extension": ".py",
   "mimetype": "text/x-python",
   "name": "python",
   "nbconvert_exporter": "python",
   "pygments_lexer": "ipython3",
   "version": "3.12.3"
  }
 },
 "nbformat": 4,
 "nbformat_minor": 2
}
