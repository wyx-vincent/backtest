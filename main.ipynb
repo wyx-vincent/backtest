{
 "cells": [
  {
   "cell_type": "code",
   "execution_count": null,
   "metadata": {},
   "outputs": [],
   "source": [
    "import math\n",
    "\n",
    "from portfolio import Portfolio\n",
    "from backtest import Backtest\n",
    "from strategies import *\n",
    "from config import *\n",
    "from utils import plot_distribution, PolygonAPI\n",
    "from data_processing import *"
   ]
  },
  {
   "cell_type": "code",
   "execution_count": null,
   "metadata": {},
   "outputs": [],
   "source": [
    "# get SPY data\n",
    "spy_df = get_spy_data(start_date, end_date)\n",
    "print(\"Number of days to backtest: \", len(spy_df))\n",
    "spy_df.head(5)"
   ]
  },
  {
   "cell_type": "code",
   "execution_count": null,
   "metadata": {},
   "outputs": [],
   "source": [
    "# instantiation\n",
    "my_portfolio = Portfolio(initial_portfolio_nominal_value, portolio_weights_config, collateral_ratio)\n",
    "my_strategy = ZeroCostCollar0DTE(my_portfolio, 'SPY', spy_df)\n",
    "env = Backtest(my_portfolio, spy_df, PolygonAPI(api_key='MPkBRXXyfleZXSJQp8_bOsKuqo2Wi_Gk'))\n",
    "\n",
    "# If price data is not available on Polygon.io, the BS model will be used to calculate price, which will print relevant info\n",
    "if strategy_selected == 1:\n",
    "    env.get_option_price('SPY', bs_config, zero_cost_search_config, open_price_config)\n",
    "    my_strategy.find_zero_cost_collar(env)\n",
    "elif strategy_selected == 2:\n",
    "    my_strategy.select_options(env.main_df, strike_selection_config)\n",
    "    env.get_option_price('SPY', bs_config)\n",
    "else:\n",
    "    raise ValueError(\"Check config, strategy does not exist. \")\n",
    "\n",
    "env.update_option_price_at_expiration()\n",
    "my_strategy.update_collar_pnl(env.main_df)"
   ]
  },
  {
   "cell_type": "code",
   "execution_count": null,
   "metadata": {},
   "outputs": [],
   "source": [
    "# Buy and hold SPY at market open on Day 1\n",
    "first_date = env.main_df['Date'].values[0]\n",
    "first_price = env.main_df['Open'].values[0]\n",
    "\n",
    "target_spy_exposure = my_portfolio.initial_portfolio_nominal_value * my_portfolio.target_portfolio_weights['equity']\n",
    "n_spy_to_buy = math.floor(target_spy_exposure / first_price)\n",
    "my_strategy.execute_buy_and_hold_underlying('equity', first_date, first_price, n_spy_to_buy)\n",
    "\n",
    "print('Portfolio position:', my_portfolio.positions)\n",
    "print('Cash after buying SPY:', my_portfolio.cash)\n",
    "print('Transaction history')\n",
    "my_portfolio.print_transaction_history()"
   ]
  },
  {
   "cell_type": "code",
   "execution_count": null,
   "metadata": {},
   "outputs": [],
   "source": [
    "# Run the zero-cost collar strategy every day in spy_df\n",
    "env.run(my_strategy)"
   ]
  },
  {
   "cell_type": "code",
   "execution_count": null,
   "metadata": {},
   "outputs": [],
   "source": [
    "# Plot the distribution of collar strategy cost. Negative cost means the call premium is larger than put premium (i.e. receiving a credit to open)\n",
    "plot_distribution(env.main_df['collar_cost'], x_label='Collar Cost', title='Collar Cost Distribution')"
   ]
  },
  {
   "cell_type": "code",
   "execution_count": null,
   "metadata": {},
   "outputs": [],
   "source": [
    "# Plot the distribution collar strategy PnL\n",
    "plot_distribution(env.main_df['collar_pnl'], x_label='Daily Collar Profit', title='Collar PnL Distribution')"
   ]
  },
  {
   "cell_type": "code",
   "execution_count": null,
   "metadata": {},
   "outputs": [],
   "source": [
    "port_return = my_portfolio.calc_port_daily_return()\n",
    "plot_distribution(port_return, x_label='Portfolio Daily Return', title='Portfolio Daily Return Distribution')"
   ]
  },
  {
   "cell_type": "code",
   "execution_count": null,
   "metadata": {},
   "outputs": [],
   "source": [
    "spy_return = env.calc_benchmark_return()\n",
    "plot_distribution(spy_return, x_label='SPY Daily Return', title='SPY Daily Return Distribution')"
   ]
  },
  {
   "cell_type": "code",
   "execution_count": null,
   "metadata": {},
   "outputs": [],
   "source": [
    "env.plot_nav_vs_spy()"
   ]
  },
  {
   "cell_type": "code",
   "execution_count": null,
   "metadata": {},
   "outputs": [],
   "source": [
    "env.plot_exposure()"
   ]
  },
  {
   "cell_type": "code",
   "execution_count": null,
   "metadata": {},
   "outputs": [],
   "source": [
    "# Optional commands which could be useful for further review and analysis.\n",
    "\n",
    "# Save the backtest main dataframe to the data folder\n",
    "# env.save_main_df_to_csv()\n",
    "\n",
    "# Save transaction history to the data folder\n",
    "# my_portfolio.save_transaction_history_to_csv()\n",
    "\n",
    "# Print all transaction history in the backtest\n",
    "# my_portfolio.print_transaction_history()\n",
    "\n",
    "# Print portfolio attributes\n",
    "# print(my_portfolio.positions, my_portfolio.cash, my_portfolio.margin)\n"
   ]
  },
  {
   "cell_type": "code",
   "execution_count": null,
   "metadata": {},
   "outputs": [],
   "source": []
  }
 ],
 "metadata": {
  "kernelspec": {
   "display_name": "backtest",
   "language": "python",
   "name": "python3"
  },
  "language_info": {
   "codemirror_mode": {
    "name": "ipython",
    "version": 3
   },
   "file_extension": ".py",
   "mimetype": "text/x-python",
   "name": "python",
   "nbconvert_exporter": "python",
   "pygments_lexer": "ipython3",
   "version": "3.12.3"
  }
 },
 "nbformat": 4,
 "nbformat_minor": 2
}
